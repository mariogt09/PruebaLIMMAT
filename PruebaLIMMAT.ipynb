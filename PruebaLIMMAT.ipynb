{
 "cells": [
  {
   "cell_type": "markdown",
   "id": "9807615a-607f-417e-ac6d-ce070ff4c76b",
   "metadata": {},
   "source": [
    "# PRUEBA TÉCNICA - MARIO GARRIDO TAPIAS"
   ]
  },
  {
   "cell_type": "code",
   "execution_count": 35,
   "id": "4c151433-fdc3-4285-85e4-855724ece4de",
   "metadata": {},
   "outputs": [],
   "source": [
    "muro = ((0,1), (0,2), (0,3), (0,4), (1,1), (2,1), (2,3), (3,3), (4,0), (4,1), (4,2), (4,3))"
   ]
  },
  {
   "cell_type": "code",
   "execution_count": 36,
   "id": "70e96d14-48d7-4e7f-9538-eefef5efbbb7",
   "metadata": {},
   "outputs": [
    {
     "data": {
      "text/plain": [
       "((0, 1),\n",
       " (0, 2),\n",
       " (0, 3),\n",
       " (0, 4),\n",
       " (1, 1),\n",
       " (2, 1),\n",
       " (2, 3),\n",
       " (3, 3),\n",
       " (4, 0),\n",
       " (4, 1),\n",
       " (4, 2),\n",
       " (4, 3))"
      ]
     },
     "execution_count": 36,
     "metadata": {},
     "output_type": "execute_result"
    }
   ],
   "source": [
    "muro"
   ]
  },
  {
   "cell_type": "code",
   "execution_count": 4,
   "id": "47294e99-8baf-4e62-b58a-e00523bb63aa",
   "metadata": {},
   "outputs": [
    {
     "data": {
      "text/plain": [
       "(0, 2)"
      ]
     },
     "execution_count": 4,
     "metadata": {},
     "output_type": "execute_result"
    }
   ],
   "source": [
    "muro[1]"
   ]
  },
  {
   "cell_type": "code",
   "execution_count": 34,
   "id": "7147cedd-baa2-4a55-8976-030c573ca9cf",
   "metadata": {},
   "outputs": [],
   "source": [
    "def creaLaberinto(muros, alto, ancho):\n",
    "    laberinto = []\n",
    "    for i in range(alto):\n",
    "        fila = []\n",
    "        print('|', end = '')\n",
    "        for j in range(ancho):\n",
    "            muro = False\n",
    "            for k in range(len(muros)):\n",
    "                if(muros[k] == (i, j)):\n",
    "                    if(j == ancho-1):\n",
    "                        print('X', end = '')\n",
    "                    else:\n",
    "                        print('X', end = ',')\n",
    "                    fila.append(0)\n",
    "                    muro = True\n",
    "                    break\n",
    "            if not muro:\n",
    "                if(j == ancho-1):\n",
    "                    print(' ', end = '')\n",
    "                else:\n",
    "                    print(' ', end = ',')\n",
    "                fila.append(1)\n",
    "        print('|')            \n",
    "        laberinto.append(fila)\n",
    "    return laberinto\n",
    "            "
   ]
  },
  {
   "cell_type": "code",
   "execution_count": 37,
   "id": "36db6ef4-874d-4947-ad74-efc98716157d",
   "metadata": {},
   "outputs": [
    {
     "name": "stdout",
     "output_type": "stream",
     "text": [
      "| ,X,X,X,X|\n",
      "| ,X, , , |\n",
      "| ,X, ,X, |\n",
      "| , , ,X, |\n",
      "|X,X,X,X, |\n"
     ]
    }
   ],
   "source": [
    "lab = creaLaberinto(muro, 5, 5)"
   ]
  },
  {
   "cell_type": "code",
   "execution_count": 38,
   "id": "e351baef-d9a9-4633-9ad3-8ed0cc908d38",
   "metadata": {},
   "outputs": [
    {
     "data": {
      "text/plain": [
       "[[1, 0, 0, 0, 0],\n",
       " [1, 0, 1, 1, 1],\n",
       " [1, 0, 1, 0, 1],\n",
       " [1, 1, 1, 0, 1],\n",
       " [0, 0, 0, 0, 1]]"
      ]
     },
     "execution_count": 38,
     "metadata": {},
     "output_type": "execute_result"
    }
   ],
   "source": [
    "lab"
   ]
  },
  {
   "cell_type": "code",
   "execution_count": 12,
   "id": "cc2bb8c9-d0af-4593-abdd-4a4dd61b5917",
   "metadata": {},
   "outputs": [],
   "source": [
    "muro = ((0, 0), (0, 1), (0, 3), (0, 4), (0, 6), (0, 7), (1, 0), (1, 4), (1, 6), (1, 7), (2, 0), (2, 1), (2, 2), (2, 4), (2, 5), (2, 6), (2, 7), (3, 0), (3, 2), (3, 7), (4, 0), (4, 4), (4, 5), (4, 7), (5, 0), (5, 2), (5, 3), (5, 6), (5, 7), (6, 0), (6, 2), (6, 3), (6, 5), (6, 7), (7, 0), (7, 4), (7, 7), (8, 0), (8, 1), (8, 2), (8, 6), (8, 7), (9, 0), (9, 1), (9, 3), (9, 5), (9, 7), (10, 0), (10, 5), (10, 7), (11, 0), (11, 2), (11, 3), (11, 4), (11, 6), (11, 7))"
   ]
  },
  {
   "cell_type": "code",
   "execution_count": 24,
   "id": "513a3cfa-2d04-4516-a804-ab7cc8afee3f",
   "metadata": {},
   "outputs": [
    {
     "name": "stdout",
     "output_type": "stream",
     "text": [
      "|X,X, ,X,X, ,X,X,|\n",
      "|X, , , ,X, ,X,X,|\n",
      "|X,X,X, ,X,X,X,X,|\n",
      "|X, ,X, , , , ,X,|\n",
      "|X, , , ,X,X, ,X,|\n",
      "|X, ,X,X, , ,X,X,|\n",
      "|X, ,X,X, ,X, ,X,|\n",
      "|X, , , ,X, , ,X,|\n",
      "|X,X,X, , , ,X,X,|\n",
      "|X,X, ,X, ,X, ,X,|\n",
      "|X, , , , ,X, ,X,|\n",
      "|X, ,X,X,X, ,X,X,|\n"
     ]
    }
   ],
   "source": [
    "pintaLaberinto(muro, 12, 8)"
   ]
  }
 ],
 "metadata": {
  "kernelspec": {
   "display_name": "Python 3 (ipykernel)",
   "language": "python",
   "name": "python3"
  },
  "language_info": {
   "codemirror_mode": {
    "name": "ipython",
    "version": 3
   },
   "file_extension": ".py",
   "mimetype": "text/x-python",
   "name": "python",
   "nbconvert_exporter": "python",
   "pygments_lexer": "ipython3",
   "version": "3.9.7"
  }
 },
 "nbformat": 4,
 "nbformat_minor": 5
}
