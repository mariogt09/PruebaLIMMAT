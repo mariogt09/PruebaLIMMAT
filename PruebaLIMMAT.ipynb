{
 "cells": [
  {
   "cell_type": "markdown",
   "id": "9807615a-607f-417e-ac6d-ce070ff4c76b",
   "metadata": {},
   "source": [
    "# <center>**PRUEBA TÉCNICA - MARIO GARRIDO TAPIAS**</center>"
   ]
  },
  {
   "cell_type": "markdown",
   "id": "973b3b9f-94e6-4c1a-bf48-3e222a87c88d",
   "metadata": {},
   "source": [
    "### **Primer caso**:"
   ]
  },
  {
   "cell_type": "code",
   "execution_count": 1,
   "id": "4c151433-fdc3-4285-85e4-855724ece4de",
   "metadata": {},
   "outputs": [],
   "source": [
    "muro = ((0,1), (0,2), (0,3), (0,4), (1,1), (2,1), (2,3), (3,3), (4,0), (4,1), (4,2), (4,3))"
   ]
  },
  {
   "cell_type": "code",
   "execution_count": 2,
   "id": "70e96d14-48d7-4e7f-9538-eefef5efbbb7",
   "metadata": {},
   "outputs": [
    {
     "data": {
      "text/plain": [
       "((0, 1),\n",
       " (0, 2),\n",
       " (0, 3),\n",
       " (0, 4),\n",
       " (1, 1),\n",
       " (2, 1),\n",
       " (2, 3),\n",
       " (3, 3),\n",
       " (4, 0),\n",
       " (4, 1),\n",
       " (4, 2),\n",
       " (4, 3))"
      ]
     },
     "execution_count": 2,
     "metadata": {},
     "output_type": "execute_result"
    }
   ],
   "source": [
    "muro"
   ]
  },
  {
   "cell_type": "code",
   "execution_count": 3,
   "id": "7147cedd-baa2-4a55-8976-030c573ca9cf",
   "metadata": {},
   "outputs": [],
   "source": [
    "# Función para la creación del laberinto, imprime una primera visión de él\n",
    "# y crea la lista que usaremos como \"matriz\" para trabajar en la solución recursiva.\n",
    "def creaLaberinto(muros, alto, ancho):\n",
    "    laberinto = []\n",
    "    for i in range(alto):\n",
    "        fila = []\n",
    "        print('|', end = '')\n",
    "        for j in range(ancho):\n",
    "            if (j == ancho - 1):\n",
    "                sep = ''\n",
    "            else:\n",
    "                sep = ','\n",
    "            if (i,j) in muros:\n",
    "                print('X', end = sep)\n",
    "                fila.append(0)\n",
    "            else:\n",
    "                print(' ', end = sep)\n",
    "                fila.append(1)\n",
    "        print('|')            \n",
    "        laberinto.append(fila)\n",
    "    return laberinto\n",
    "            "
   ]
  },
  {
   "cell_type": "code",
   "execution_count": 4,
   "id": "36db6ef4-874d-4947-ad74-efc98716157d",
   "metadata": {},
   "outputs": [
    {
     "name": "stdout",
     "output_type": "stream",
     "text": [
      "| ,X,X,X,X|\n",
      "| ,X, , , |\n",
      "| ,X, ,X, |\n",
      "| , , ,X, |\n",
      "|X,X,X,X, |\n"
     ]
    }
   ],
   "source": [
    "lab = creaLaberinto(muro, 5, 5)"
   ]
  },
  {
   "cell_type": "code",
   "execution_count": 5,
   "id": "e351baef-d9a9-4633-9ad3-8ed0cc908d38",
   "metadata": {},
   "outputs": [
    {
     "data": {
      "text/plain": [
       "[[1, 0, 0, 0, 0],\n",
       " [1, 0, 1, 1, 1],\n",
       " [1, 0, 1, 0, 1],\n",
       " [1, 1, 1, 0, 1],\n",
       " [0, 0, 0, 0, 1]]"
      ]
     },
     "execution_count": 5,
     "metadata": {},
     "output_type": "execute_result"
    }
   ],
   "source": [
    "lab"
   ]
  },
  {
   "cell_type": "code",
   "execution_count": 6,
   "id": "59bdb751-ac84-448c-98be-5bbbdd73587b",
   "metadata": {},
   "outputs": [],
   "source": [
    "# Función que busca los origenes posibles del laberinto y busca la solución (si es posible)\n",
    "# para cada una de ellas\n",
    "def resuelveLaberinto(laberinto, alto, ancho):\n",
    "    # Buscamos los huecos libres de la primera fila\n",
    "    filaUno = laberinto[0]\n",
    "    origenes = []\n",
    "    for j in range(ancho):\n",
    "        if (filaUno[j] == 1):\n",
    "            origenes.append((0, j))\n",
    "    # Comenzamos la busqueda\n",
    "    for origen in origenes:\n",
    "        print(\"Comenzando desde\", origen, \":\")\n",
    "        buscaCamino(laberinto, [origen])"
   ]
  },
  {
   "cell_type": "code",
   "execution_count": 7,
   "id": "9eea9ab7-1164-4485-b4cd-22286039bd66",
   "metadata": {},
   "outputs": [],
   "source": [
    "import random\n",
    "# Función recursiva que tiene en cuenta las diferentes situaciones que nos podemos encontrar.\n",
    "def buscaCamino(laberinto, ruta):\n",
    "    actual = ruta[-1]\n",
    "        \n",
    "    # Posibles direcciones (en orden): abajo, derecha, abajo, izquierda\n",
    "    posiciones = [\n",
    "        (actual[0] + 1, actual[1]),\n",
    "        (actual[0], actual[1] + 1),\n",
    "        (actual[0] - 1, actual[1]),\n",
    "        (actual[0], actual[1] - 1),\n",
    "    ]\n",
    "    #random.shuffle(posiciones)\n",
    "    \n",
    "    for pos in posiciones:\n",
    "        if pos[0] < 0 or pos[1] < 0 or pos[0] >= len(laberinto) or pos[1] >= len(laberinto[0]):\n",
    "            continue\n",
    "        elif laberinto[pos[0]][pos[1]] == 0:\n",
    "            continue\n",
    "        elif pos in ruta:\n",
    "            continue\n",
    "        elif pos[0] == len(laberinto) - 1:\n",
    "            ruta.append(pos)\n",
    "            pintaLaberintoFinal(ruta, laberinto)\n",
    "        else:\n",
    "            ruta.append(pos)\n",
    "            #print(\"Etapa\")\n",
    "            #pintaLaberintoFinal(ruta, laberinto)\n",
    "            buscaCamino(laberinto, ruta)\n",
    "    print(\" - Acabado con\", actual)"
   ]
  },
  {
   "cell_type": "code",
   "execution_count": 8,
   "id": "8e570df0-0bbd-420e-b04b-d7b4d8fc3d5c",
   "metadata": {},
   "outputs": [],
   "source": [
    "import pandas as pd\n",
    "import seaborn as sns\n",
    "# Función que pinta la ruta recibida sobre el laberinto proporcionado.\n",
    "def pintaLaberintoFinal(ruta, laberinto):\n",
    "    for pos in ruta:\n",
    "        laberinto[pos[0]][pos[1]] = 2\n",
    "    for i in range(len(laberinto)):\n",
    "        print('|', end = '')\n",
    "        for j in range(len(laberinto[i])):\n",
    "            if (j == (len(laberinto[i])) - 1):\n",
    "                sep = ''\n",
    "            else:\n",
    "                sep = ','\n",
    "            if (laberinto[i][j] == 2):\n",
    "                print('*', end = sep)\n",
    "            elif (laberinto[i][j] == 0):\n",
    "                print('X', end = sep)\n",
    "            else:\n",
    "                print(' ', end = sep)\n",
    "        print('|')\n",
    "    # Cantidad de valores posibles\n",
    "    n = 3\n",
    "    # Creamos nuestra propia paleta\n",
    "    colores = [\"#951d03\", \"#1421f5\", \"#14f52c\"]\n",
    "    cmap = sns.color_palette(colores, n) \n",
    "    ax = sns.heatmap(pd.DataFrame(laberinto), cmap = cmap) \n",
    "    # Modificamos la leyenda\n",
    "    colorbar = ax.collections[0].colorbar \n",
    "    r = colorbar.vmax - colorbar.vmin \n",
    "    colorbar.set_ticks([colorbar.vmin + r / n * (0.5 + i) for i in range(n)])\n",
    "    colorbar.set_ticklabels((\"Pared\", \"No visitado\", \"Ruta\"))   "
   ]
  },
  {
   "cell_type": "code",
   "execution_count": 9,
   "id": "2e559a91-a924-41be-8c2b-8d82a62a2d2c",
   "metadata": {},
   "outputs": [
    {
     "name": "stdout",
     "output_type": "stream",
     "text": [
      "Comenzando desde (0, 0) :\n",
      "|*,X,X,X,X|\n",
      "|*,X,*,*,*|\n",
      "|*,X,*,X,*|\n",
      "|*,*,*,X,*|\n",
      "|X,X,X,X,*|\n",
      " - Acabado con (3, 4)\n",
      " - Acabado con (2, 4)\n",
      " - Acabado con (1, 4)\n",
      " - Acabado con (1, 3)\n",
      " - Acabado con (1, 2)\n",
      " - Acabado con (2, 2)\n",
      " - Acabado con (3, 2)\n",
      " - Acabado con (3, 1)\n",
      " - Acabado con (3, 0)\n",
      " - Acabado con (2, 0)\n",
      " - Acabado con (1, 0)\n",
      " - Acabado con (0, 0)\n"
     ]
    },
    {
     "data": {
      "image/png": "[encoded data removed]",
      "text/plain": [
       "<Figure size 432x288 with 2 Axes>"
      ]
     },
     "metadata": {
      "needs_background": "light"
     },
     "output_type": "display_data"
    }
   ],
   "source": [
    "resuelveLaberinto(lab, 5, 5)"
   ]
  },
  {
   "cell_type": "markdown",
   "id": "55fa00d5-677b-4a2e-af31-8fdc59ff9d19",
   "metadata": {},
   "source": [
    "### **Segundo caso**:"
   ]
  },
  {
   "cell_type": "code",
   "execution_count": 10,
   "id": "cc2bb8c9-d0af-4593-abdd-4a4dd61b5917",
   "metadata": {},
   "outputs": [],
   "source": [
    "muro = ((0, 0), (0, 1), (0, 3), (0, 4), (0, 6), (0, 7), (1, 0), (1, 4), (1, 6), (1, 7), (2, 0), (2, 1), (2, 2), (2, 4), (2, 5), (2, 6), (2, 7), (3, 0), (3, 2), (3, 7), (4, 0), (4, 4), (4, 5), (4, 7), (5, 0), (5, 2), (5, 3), (5, 6), (5, 7), (6, 0), (6, 2), (6, 3), (6, 5), (6, 7), (7, 0), (7, 4), (7, 7), (8, 0), (8, 1), (8, 2), (8, 6), (8, 7), (9, 0), (9, 1), (9, 3), (9, 5), (9, 7), (10, 0), (10, 5), (10, 7), (11, 0), (11, 2), (11, 3), (11, 4), (11, 6), (11, 7))"
   ]
  },
  {
   "cell_type": "code",
   "execution_count": 11,
   "id": "513a3cfa-2d04-4516-a804-ab7cc8afee3f",
   "metadata": {},
   "outputs": [
    {
     "name": "stdout",
     "output_type": "stream",
     "text": [
      "|X,X, ,X,X, ,X,X|\n",
      "|X, , , ,X, ,X,X|\n",
      "|X,X,X, ,X,X,X,X|\n",
      "|X, ,X, , , , ,X|\n",
      "|X, , , ,X,X, ,X|\n",
      "|X, ,X,X, , ,X,X|\n",
      "|X, ,X,X, ,X, ,X|\n",
      "|X, , , ,X, , ,X|\n",
      "|X,X,X, , , ,X,X|\n",
      "|X,X, ,X, ,X, ,X|\n",
      "|X, , , , ,X, ,X|\n",
      "|X, ,X,X,X, ,X,X|\n"
     ]
    }
   ],
   "source": [
    "lab2 = creaLaberinto(muro, 12, 8)"
   ]
  },
  {
   "cell_type": "code",
   "execution_count": 12,
   "id": "c410ead0-3c1a-43fe-a949-3b31c3db294b",
   "metadata": {},
   "outputs": [
    {
     "data": {
      "text/plain": [
       "[[0, 0, 1, 0, 0, 1, 0, 0],\n",
       " [0, 1, 1, 1, 0, 1, 0, 0],\n",
       " [0, 0, 0, 1, 0, 0, 0, 0],\n",
       " [0, 1, 0, 1, 1, 1, 1, 0],\n",
       " [0, 1, 1, 1, 0, 0, 1, 0],\n",
       " [0, 1, 0, 0, 1, 1, 0, 0],\n",
       " [0, 1, 0, 0, 1, 0, 1, 0],\n",
       " [0, 1, 1, 1, 0, 1, 1, 0],\n",
       " [0, 0, 0, 1, 1, 1, 0, 0],\n",
       " [0, 0, 1, 0, 1, 0, 1, 0],\n",
       " [0, 1, 1, 1, 1, 0, 1, 0],\n",
       " [0, 1, 0, 0, 0, 1, 0, 0]]"
      ]
     },
     "execution_count": 12,
     "metadata": {},
     "output_type": "execute_result"
    }
   ],
   "source": [
    "lab2"
   ]
  },
  {
   "cell_type": "code",
   "execution_count": 13,
   "id": "2cf4c0c9-44ab-499d-b6a4-6506b3c33d3d",
   "metadata": {},
   "outputs": [
    {
     "name": "stdout",
     "output_type": "stream",
     "text": [
      "Comenzando desde (0, 2) :\n",
      " - Acabado con (9, 2)\n",
      "|X,X,*,X,X, ,X,X|\n",
      "|X, ,*,*,X, ,X,X|\n",
      "|X,X,X,*,X,X,X,X|\n",
      "|X, ,X,*, , , ,X|\n",
      "|X,*,*,*,X,X, ,X|\n",
      "|X,*,X,X, , ,X,X|\n",
      "|X,*,X,X, ,X, ,X|\n",
      "|X,*,*,*,X, , ,X|\n",
      "|X,X,X,*,*, ,X,X|\n",
      "|X,X,*,X,*,X, ,X|\n",
      "|X,*,*,*,*,X, ,X|\n",
      "|X,*,X,X,X, ,X,X|\n",
      " - Acabado con (10, 1)\n",
      " - Acabado con (10, 2)\n",
      " - Acabado con (10, 3)\n",
      " - Acabado con (10, 4)\n",
      " - Acabado con (9, 4)\n",
      " - Acabado con (6, 6)\n",
      " - Acabado con (7, 6)\n",
      " - Acabado con (7, 5)\n",
      " - Acabado con (8, 5)\n",
      " - Acabado con (8, 4)\n",
      " - Acabado con (8, 3)\n",
      " - Acabado con (7, 3)\n",
      " - Acabado con (7, 2)\n",
      " - Acabado con (7, 1)\n",
      " - Acabado con (6, 1)\n",
      " - Acabado con (5, 1)\n",
      " - Acabado con (3, 1)\n",
      " - Acabado con (4, 1)\n",
      " - Acabado con (4, 2)\n",
      " - Acabado con (4, 3)\n",
      " - Acabado con (4, 6)\n",
      " - Acabado con (3, 6)\n",
      " - Acabado con (3, 5)\n",
      " - Acabado con (3, 4)\n",
      " - Acabado con (3, 3)\n",
      " - Acabado con (2, 3)\n",
      " - Acabado con (1, 3)\n",
      " - Acabado con (1, 1)\n",
      " - Acabado con (1, 2)\n",
      " - Acabado con (0, 2)\n",
      "Comenzando desde (0, 5) :\n",
      " - Acabado con (1, 5)\n",
      " - Acabado con (0, 5)\n"
     ]
    },
    {
     "data": {
      "image/png": "[encoded data removed]",
      "text/plain": [
       "<Figure size 432x288 with 2 Axes>"
      ]
     },
     "metadata": {
      "needs_background": "light"
     },
     "output_type": "display_data"
    }
   ],
   "source": [
    "resuelveLaberinto(lab2, 12, 8)"
   ]
  }
 ],
 "metadata": {
  "kernelspec": {
   "display_name": "Python 3 (ipykernel)",
   "language": "python",
   "name": "python3"
  },
  "language_info": {
   "codemirror_mode": {
    "name": "ipython",
    "version": 3
   },
   "file_extension": ".py",
   "mimetype": "text/x-python",
   "name": "python",
   "nbconvert_exporter": "python",
   "pygments_lexer": "ipython3",
   "version": "3.9.7"
  }
 },
 "nbformat": 4,
 "nbformat_minor": 5
}
